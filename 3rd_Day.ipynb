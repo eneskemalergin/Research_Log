{
 "cells": [
  {
   "cell_type": "markdown",
   "metadata": {},
   "source": [
    "![Harvard Seal](./img/HMS_Seal.png)\n",
    "\n",
    "3rd Day\n",
    "---\n",
    "\n",
    "> Enes Kemal Ergin\n",
    "\n",
    "> 11/05/2015\n",
    "\n",
    "Outline of the Day\n",
    "\n",
    "- Got my ID Card \n",
    "- Met with lab members in Group Meeting \n",
    "- Kevin's Presentation in Group Meeting\n",
    "- Got annotation file for Human Gene\n",
    "- Wrote script to modify the annotation \n"
   ]
  },
  {
   "cell_type": "markdown",
   "metadata": {},
   "source": [
    "Today I woke up late because I felt ill a little bit. Then I got into wrong bus and went to opposite way. As you may understand I had a bad day. I've arrive at 2:30pm to lab, which is pretty late.\n",
    "\n",
    "First we filled out some forms to get our ID Cards. We took some lab safety courses and passed those after passing and filling forms we got our visiting researcher ids. Looks like this, I was waiting some fancier but to get those you should stay at least 60 days, so next time hopefully...\n",
    "\n",
    "![ID Picture](./img/ID.jpg)\n",
    "\n",
    "---\n"
   ]
  },
  {
   "cell_type": "markdown",
   "metadata": {},
   "source": [
    "After finishing ID process we went to group meeting, which is a meeting for lab members coming together and sharing information about what they've found during past week. \n",
    "\n",
    "---\n",
    "\n",
    "Each week one PhD or Post-PhD student give presentation about their project. Today was Kevin Harley's turn to present he talked about his project which I believe is very close to finish. Finish means that publishing the paper about the project, since he asked ideas about main, suplemental images and title of the paper. It was not very clear for me because the topic (RNA Splicing) is quite above my knowledge of Biology. "
   ]
  },
  {
   "cell_type": "markdown",
   "metadata": {},
   "source": [
    "---\n",
    "\n",
    "After taking some notes and questions about the group meeting then I started to work on my project. I had to download annotation file for human genome. It was looking like this:\n",
    "\n",
    "![Annotation File Full Version](./img/AnnotationFull.png)"
   ]
  },
  {
   "cell_type": "markdown",
   "metadata": {},
   "source": [
    "---\n",
    "\n",
    "First I need to extract the headers from the file. Since for testing the mode we only need chr1 so I will take only chr1. \n",
    "\n",
    "```\n",
    "grep -P 'chr1\\t' gencode.v23.annotation.gtf > chr1_annotation.gtf\n",
    "```\n",
    "\n",
    "Then I used python pandas library to take only necessary columns that I will use. "
   ]
  },
  {
   "cell_type": "code",
   "execution_count": 3,
   "metadata": {
    "collapsed": false
   },
   "outputs": [],
   "source": [
    "import pandas as pd\n",
    "annot_file = \"/home/enes/github/deepTrans/data/Annotation/chr1_annotation.gtf\"\n",
    "# Read with Pandas library by using \\t seperation\n",
    "annot = pd.read_table(annot_file, sep=\"\\t\", header=None) \n",
    "annot = annot[[0,2,3,4,6]]\n",
    "# Rename the columns \n",
    "annot.columns = ['chr','typ','start','end','strand']"
   ]
  },
  {
   "cell_type": "code",
   "execution_count": 4,
   "metadata": {
    "collapsed": false
   },
   "outputs": [
    {
     "data": {
      "text/html": [
       "<div>\n",
       "<table border=\"1\" class=\"dataframe\">\n",
       "  <thead>\n",
       "    <tr style=\"text-align: right;\">\n",
       "      <th></th>\n",
       "      <th>chr</th>\n",
       "      <th>typ</th>\n",
       "      <th>start</th>\n",
       "      <th>end</th>\n",
       "      <th>strand</th>\n",
       "    </tr>\n",
       "  </thead>\n",
       "  <tbody>\n",
       "    <tr>\n",
       "      <th>0</th>\n",
       "      <td>chr1</td>\n",
       "      <td>gene</td>\n",
       "      <td>11869</td>\n",
       "      <td>14409</td>\n",
       "      <td>+</td>\n",
       "    </tr>\n",
       "    <tr>\n",
       "      <th>1</th>\n",
       "      <td>chr1</td>\n",
       "      <td>transcript</td>\n",
       "      <td>11869</td>\n",
       "      <td>14409</td>\n",
       "      <td>+</td>\n",
       "    </tr>\n",
       "    <tr>\n",
       "      <th>2</th>\n",
       "      <td>chr1</td>\n",
       "      <td>exon</td>\n",
       "      <td>11869</td>\n",
       "      <td>12227</td>\n",
       "      <td>+</td>\n",
       "    </tr>\n",
       "    <tr>\n",
       "      <th>3</th>\n",
       "      <td>chr1</td>\n",
       "      <td>exon</td>\n",
       "      <td>12613</td>\n",
       "      <td>12721</td>\n",
       "      <td>+</td>\n",
       "    </tr>\n",
       "    <tr>\n",
       "      <th>4</th>\n",
       "      <td>chr1</td>\n",
       "      <td>exon</td>\n",
       "      <td>13221</td>\n",
       "      <td>14409</td>\n",
       "      <td>+</td>\n",
       "    </tr>\n",
       "  </tbody>\n",
       "</table>\n",
       "</div>"
      ],
      "text/plain": [
       "    chr         typ  start    end strand\n",
       "0  chr1        gene  11869  14409      +\n",
       "1  chr1  transcript  11869  14409      +\n",
       "2  chr1        exon  11869  12227      +\n",
       "3  chr1        exon  12613  12721      +\n",
       "4  chr1        exon  13221  14409      +"
      ]
     },
     "execution_count": 4,
     "metadata": {},
     "output_type": "execute_result"
    }
   ],
   "source": [
    "annot.head()"
   ]
  },
  {
   "cell_type": "code",
   "execution_count": 8,
   "metadata": {
    "collapsed": true
   },
   "outputs": [],
   "source": [
    "annot.to_csv(\"output.gtf\",sep = '\\t')"
   ]
  },
  {
   "cell_type": "markdown",
   "metadata": {},
   "source": [
    "After all thise we will get output.gtf. This is not very efficient way to extract columns using python pandas however using terminal is efficient. I did not create a new file for extracted columns instead I just used the script in the project itself, here I used this just to show you...\n",
    "\n",
    "See you tomorrow.."
   ]
  }
 ],
 "metadata": {
  "kernelspec": {
   "display_name": "Python 2",
   "language": "python",
   "name": "python2"
  },
  "language_info": {
   "codemirror_mode": {
    "name": "ipython",
    "version": 2
   },
   "file_extension": ".py",
   "mimetype": "text/x-python",
   "name": "python",
   "nbconvert_exporter": "python",
   "pygments_lexer": "ipython2",
   "version": "2.7.10"
  }
 },
 "nbformat": 4,
 "nbformat_minor": 0
}
