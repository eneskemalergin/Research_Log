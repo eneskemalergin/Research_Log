{
 "cells": [
  {
   "cell_type": "markdown",
   "metadata": {},
   "source": [
    "\n",
    "![Harvard Seal](./img/HMS_Seal.png)\n",
    "\n",
    "1st Day\n",
    "---\n",
    "\n",
    "> Enes Kemal Ergin\n",
    "\n",
    "> 11/03/2015\n",
    "\n",
    "Outline of the Day\n",
    "\n",
    "- Created an orchestra account\n",
    "- Installed Torch7\n",
    "- Installed Genomedata\n",
    "- Installed HDF5\n",
    "    - For torch7, and python\n",
    "- Get the project folder\n",
    "- Met with Ms.Stirling Churchman, PI\n",
    "- Downloaded HeLa cells and HumanGene38\n"
   ]
  },
  {
   "cell_type": "markdown",
   "metadata": {
    "collapsed": true
   },
   "source": [
    "First day was not hard as I expected to be. I've met with lab members in [Churchman Lab](http://churchman.med.harvard.edu/) (This is my lab, btw). Then I had a chance to glimpse around the new research building of Harvard Medical School, where I will spend most of my day at during my research experience. In first day I did not have time to see other universities or buildigins of HMS. \n"
   ]
  },
  {
   "cell_type": "markdown",
   "metadata": {},
   "source": [
    "### First Session\n",
    "\n",
    "Then we sat together with Dr. Umut Eser to talk about project details. I won't give detail about the project until we publish it, but I will talk about the tools that we will use during the research.\n",
    "\n",
    "We created an orchestra account which is the cluster that Harvard Medical School and some other school uses collabratively. We are using it to handle conputations which may take a lot with our personal computers. Also the cluster has GPU(Graphical Processing Unit) option, which speeds-up the process of computing deep learning models. We use terminal ssh to connect to the cluster, here is the main screen when you first get into orchestra:\n",
    "\n",
    "![Orchestra Terminal](./img/Orchestra_Terminal.png)\n",
    "\n",
    "---\n"
   ]
  },
  {
   "cell_type": "markdown",
   "metadata": {},
   "source": [
    "Then we installed torch7, which is a deep learning framework built on top of Lua programming language. Deep Learning is very elegant and easy with torch7 built-in libraries, but to be able to use the data with torch we have to filter and make it readable to torch7 which can be pretty frustrating sometimes. I did not work on data yet but following days will be all about data filtering, modification and so on...\n",
    "\n",
    "I went to [Torch.ch](http://torch.ch/docs/getting-started.html) to download the tool which was pretty straightforward tutorial you simple write this;\n",
    "\n",
    "```sh\n",
    "curl -s https://raw.githubusercontent.com/torch/ezinstall/master/install-deps | bash\n",
    "git clone https://github.com/torch/distro.git ~/torch --recursive\n",
    "cd ~/torch; ./install.sh\n",
    "\n",
    "```\n",
    "\n",
    "After all those commands are done you will source the ```./bashrc``` or ```./profile``` file, which is a path file, to make torch up and running. \n",
    "\n",
    "```sh\n",
    "# On Linux\n",
    "source ~/.bashrc\n",
    "# On OSX\n",
    "source ~/.profile\n",
    "\n",
    "```\n",
    "In my macbook my default path was not ```./profile```, instead I have ```./bash_profile``` which controls the terminal default, so I copied and pasted the the path line to ```./bash_profile```. \n",
    "\n",
    "After everything is done without error, I checked if everything is ok with torch to write simple command to start the interpreter:\n",
    "\n",
    "```sh\n",
    "th\n",
    "```\n",
    "\n",
    "![Torch Terminal](./img/Torch_terminal.png)\n",
    "\n",
    "---\n"
   ]
  },
  {
   "cell_type": "markdown",
   "metadata": {},
   "source": [
    "After we done with torch7 installation, we installed genomedat, here is the [official documentation](http://genomedata.readthedocs.org/en/latest/), where you can find the installation and more information about it. Basically genomedata is a tool to help converting/combining multiple data into one data which is usable with torch7.\n",
    "\n",
    "Genomedata is usable with Python, when you installed genomedata with ```pip```, then you go ahead and import the genomedata with ```import genomedata``` you will see no error hopefully. We will use this within coming days as a test tool and tool to create databases for hdf5...\n",
    "\n",
    "---"
   ]
  },
  {
   "cell_type": "markdown",
   "metadata": {},
   "source": [
    "HDF5 is a data model, library, and file format for storing and managing data. We will use this to store our data, which is combined with multiple datasets, to run it with torch7. We as a team had a lot of troubles to install it. I can say it tooks us almost the 1/3 of the day to solve the problem. \n",
    "\n",
    "Python version of HDF5 is called ```h5py``` which you can download it via ```pip``` when you have the base HDF5. \n",
    "\n",
    "---"
   ]
  },
  {
   "cell_type": "markdown",
   "metadata": {},
   "source": [
    "After completing these prerequisites we download the other project which is very similar to our project from Dr.Umut's folders in cluster called Orchestra. We will use this project as a reference point to get some insights about the project, since we don't have much of a background about the biological theory of the project. \n",
    "\n",
    "---\n"
   ]
  },
  {
   "cell_type": "markdown",
   "metadata": {},
   "source": [
    "Afternoon, when we come back from the lunch at around 3:30pm, we had chance to meet with the PI(principle investigator) of the lab that we are working at, Dr.Stirling Churchman. She basically the professor/advisor of the lab members.\n",
    "\n",
    "We talked about the project in overall. What are their expectations from us, what might be the results, and incentives to complete this research, etc... She gave us a paper published in Feb 2015 to read. The paper was very similar to our project. In my first talk with her, I saw that she is very helpful and close to her students, which gives all lab members to free space to explore and learn more within the unstressed environment. \n",
    "\n",
    "I also saw that lab members are very friendly and helpful to us. Whenever we ask a question they just focus on us and try to help us. I think that comes from the environment that Dr.Stirling created in this lab. \n",
    "\n",
    "---\n"
   ]
  },
  {
   "cell_type": "markdown",
   "metadata": {},
   "source": [
    "At the end of the day Dr.Umut gave us a small task to complete which was to download HeLa cells of Human ``` Helas3H3k27ac``` and ```Helas3H3k36me3```, and HumanGene version 38. \n",
    "\n",
    "The files were very big, around 5gb total. It took me half an our to download. Then I was ready for the next day.\n",
    "\n",
    "---\n"
   ]
  },
  {
   "cell_type": "markdown",
   "metadata": {},
   "source": [
    "See you tomorrow..."
   ]
  },
  {
   "cell_type": "code",
   "execution_count": null,
   "metadata": {
    "collapsed": true
   },
   "outputs": [],
   "source": []
  }
 ],
 "metadata": {
  "kernelspec": {
   "display_name": "Python 2",
   "language": "python",
   "name": "python2"
  },
  "language_info": {
   "codemirror_mode": {
    "name": "ipython",
    "version": 2
   },
   "file_extension": ".py",
   "mimetype": "text/x-python",
   "name": "python",
   "nbconvert_exporter": "python",
   "pygments_lexer": "ipython2",
   "version": "2.7.10"
  }
 },
 "nbformat": 4,
 "nbformat_minor": 0
}
