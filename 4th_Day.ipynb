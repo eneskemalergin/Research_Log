{
 "cells": [
  {
   "cell_type": "markdown",
   "metadata": {},
   "source": [
    "![Harvard Seal](./img/HMS_Seal.png)\n",
    "\n",
    "4th Day\n",
    "---\n",
    "\n",
    "> Enes Kemal Ergin\n",
    "\n",
    "> 11/06/2015\n",
    "\n",
    "Outline of the Day\n",
    "\n",
    "- Worked on a script seq2hdf5.py\n",
    "- Attended Principles of Moleculer Biology Class"
   ]
  },
  {
   "cell_type": "markdown",
   "metadata": {},
   "source": [
    "4th day started pretty fast, around 8:30 I arrived to the lab and start working on. You know from the previous days that we had the project folder from Dr.Umut's project, which is very similar to our project. So we decided to go with those scripts and modify them to adapt out project. \n",
    "\n",
    "I started to work with ```seq2hdf5.py``` script which will be availabe when we finish and publish paper for the project, now I can only talk a little about it. This script takes the input from genomedata and your annotation files to convert it to hdf5 data type, which is created by NASA to make it hierarchical data type. Actually name of hdf comes from _hierarchical data format_. \n",
    "\n",
    "Data will be 4 dimensional; size, channels, height of signal, and width of the signal. In the previous project size was 50000, channels 4, height 2, and width was 1000. In our case it will be different then that, \n",
    "\n",
    "First thing I did was to change all the previous input formats to our input format since we won't use different next generation sequencing data formats to compare. We will use different tissue types and the splicing data of those tissues. \n",
    "\n",
    "Then I changed the main for loop range to 1 since we will test it with chromosome 1 only first. \n",
    "\n",
    "![Modifying seq2hdf5.py](./img/code1.jpg)"
   ]
  },
  {
   "cell_type": "markdown",
   "metadata": {},
   "source": [
    "When time hits 10:45 am the molecular biology class started. Dr.Stirling Churchman invited us to join this graduate level class, so we can also learn the biological background of the project too. The first class was very rough, I thought that they are speaking in some other language. I took alot of notes but most of them has question marks at the end of each. \n",
    "\n",
    "Some notes: (Transcription Elongation)\n",
    "\n",
    "- We don't want to sequence tRNA and rRNA\n",
    "- In cell; \n",
    "    - 5% mRNA\n",
    "    - 80% rRNA\n",
    "    - 15% tRNA\n",
    "- In sequencing and transcription research extracting rRNA is the best way to start the experiment.\n",
    "- RNA polymerase (PolII) is the enzyme that start and control the transcription\n",
    "\n",
    "There were more questions then the concepts that I understood in the class for the first class but it was still an amazing experience to take Harvard Medical School graduate level class, and listen Stirling to teach... (Sorry for the low quality :) )\n",
    "\n",
    "![Molecular Biology](./img/class.jpg)"
   ]
  },
  {
   "cell_type": "code",
   "execution_count": null,
   "metadata": {
    "collapsed": true
   },
   "outputs": [],
   "source": []
  }
 ],
 "metadata": {
  "kernelspec": {
   "display_name": "Python 2",
   "language": "python",
   "name": "python2"
  },
  "language_info": {
   "codemirror_mode": {
    "name": "ipython",
    "version": 2
   },
   "file_extension": ".py",
   "mimetype": "text/x-python",
   "name": "python",
   "nbconvert_exporter": "python",
   "pygments_lexer": "ipython2",
   "version": "2.7.10"
  }
 },
 "nbformat": 4,
 "nbformat_minor": 0
}
